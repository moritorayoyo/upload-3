{
  "metadata": {
    "kernelspec": {
      "name": "python",
      "display_name": "Python (Pyodide)",
      "language": "python"
    },
    "language_info": {
      "codemirror_mode": {
        "name": "python",
        "version": 3
      },
      "file_extension": ".py",
      "mimetype": "text/x-python",
      "name": "python",
      "nbconvert_exporter": "python",
      "pygments_lexer": "ipython3",
      "version": "3.8"
    }
  },
  "nbformat_minor": 4,
  "nbformat": 4,
  "cells": [
    {
      "cell_type": "code",
      "source": "print(\"hello world\")",
      "metadata": {
        "trusted": true
      },
      "outputs": [
        {
          "name": "stdout",
          "text": "hello world\n",
          "output_type": "stream"
        }
      ],
      "execution_count": 3
    },
    {
      "cell_type": "markdown",
      "source": "# Notebook Title",
      "metadata": {}
    },
    {
      "cell_type": "markdown",
      "source": "## 引言\n",
      "metadata": {}
    },
    {
      "cell_type": "markdown",
      "source": "## 数据科学语言\n\n以下是常用的数据科学编程语言：\n\n- Python\n- R\n- SQL\n- Julia\n- Java\n- Scala\n- MATLAB\n",
      "metadata": {}
    },
    {
      "cell_type": "markdown",
      "source": "\n\n- **Python库**：\n  - NumPy\n  - Pandas\n  - Matplotlib\n  - Seaborn\n  - Scikit-Learn\n  - TensorFlow\n  - Keras\n  - PyTorch\n\n- **R库**：\n  - ggplot2\n  - dplyr\n  - tidyr\n  - caret\n  - shiny\n\n\n",
      "metadata": {}
    },
    {
      "cell_type": "markdown",
      "source": "## 数据科学工具表\n\n以下是一些常用的数据科学工具及其用途：\n\n| 工具             | 用途                                  | 说明                                      |\n|------------------|--------------------------------------|-------------------------------------------|\n| Jupyter Notebook | 数据清洗、探索分析、可视化          | 支持Python、R等多种编程语言               |\n| RStudio          | 数据分析和可视化                     | 专为R编程语言设计，支持R Markdown          |\n| Apache Spark     | 大规模数据处理和分布式计算          | 处理海量数据，适合大数据分析               |\n| Tableau          | 数据可视化和商业智能                 | 用于生成交互式仪表盘和报告                 |\n| TensorFlow       | 深度学习和机器学习                   | 用于构建和训练神经网络模型                 |\n| Apache Hadoop    | 分布式存储和大数据处理               | 提供分布式文件系统和MapReduce处理框架      |\n| KNIME            | 数据整合、处理和分析                 | 无代码数据科学平台，支持多种算法           |\n| SAS              | 高级数据分析                         | 常用于商业统计分析，适合数据驱动决策       |\n\n",
      "metadata": {}
    },
    {
      "cell_type": "markdown",
      "source": "## Arithmetic Expression Examples\n\n以下是一些简单的算术表达式示例：\n\n- **加法**: `5 + 3 = 8`\n- **减法**: `10 - 4 = 6`\n- **乘法**: `6 * 7 = 42`\n- **除法**: `20 / 5 = 4.0`\n- **幂运算**: `2 ** 3 = 8`\n- **取余运算**: `10 % 3 = 1`\n",
      "metadata": {}
    },
    {
      "cell_type": "markdown",
      "source": "# 定义两个数字\nnum1 = 8\nnum2 = 5\n\n# 进行乘法运算\nmultiplication_result = num1 * num2\nprint(\"乘法结果 (8 * 5) =\", multiplication_result)\n\n# 进行加法运算\naddition_result = num1 + num2\nprint(\"加法结果 (8 + 5) =\", addition_result)\n",
      "metadata": {}
    },
    {
      "cell_type": "markdown",
      "source": "# 定义分钟数\nminutes = 150\n\n# 将分钟转换为小时\nhours = minutes / 60\nprint(f\"{minutes} 分钟等于 {hours} 小时\")\n",
      "metadata": {}
    },
    {
      "cell_type": "markdown",
      "source": "## Objectives\n\n- 理解数据科学的基本概念\n- 学习常用的数据科学工具和库\n- 掌握数据清洗、处理和可视化技巧\n- 探索机器学习的基本算法\n- 使用Python进行数据分析和建模\n",
      "metadata": {}
    },
    {
      "cell_type": "markdown",
      "source": "## Author\n\n[李雅文]\n",
      "metadata": {}
    },
    {
      "cell_type": "code",
      "source": "",
      "metadata": {
        "trusted": true
      },
      "outputs": [],
      "execution_count": null
    }
  ]
}